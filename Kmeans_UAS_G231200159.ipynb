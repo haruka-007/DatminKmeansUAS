{
 "cells": [
  {
   "cell_type": "code",
   "execution_count": 1,
   "id": "821dda9f",
   "metadata": {},
   "outputs": [],
   "source": [
    "##import library yang dibutuhkan\n",
    "import pandas as pd\n",
    "from sklearn.cluster import KMeans"
   ]
  },
  {
   "cell_type": "code",
   "execution_count": 9,
   "id": "0a4b0503",
   "metadata": {},
   "outputs": [
    {
     "name": "stdout",
     "output_type": "stream",
     "text": [
      "<class 'pandas.core.frame.DataFrame'>\n",
      "RangeIndex: 19 entries, 0 to 18\n",
      "Data columns (total 4 columns):\n",
      " #   Column      Non-Null Count  Dtype \n",
      "---  ------      --------------  ----- \n",
      " 0   .Kecamatan  19 non-null     object\n",
      " 1   .2018       19 non-null     int64 \n",
      " 2   .2019       19 non-null     int64 \n",
      " 3   .2020       19 non-null     int64 \n",
      "dtypes: int64(3), object(1)\n",
      "memory usage: 736.0+ bytes\n"
     ]
    }
   ],
   "source": [
    "## Membaca dataset dari file CSV\n",
    "## Sumber : https://semarangkab.bps.go.id/indicator/34/357/1/jumlah-kejahatan-yang-dilaporkan.html\n",
    "data = pd.read_csv('index.csv')\n",
    "\n",
    "## menampilkan informasi dari dataset\n",
    "data.info()"
   ]
  },
  {
   "cell_type": "code",
   "execution_count": 10,
   "id": "46511fab",
   "metadata": {},
   "outputs": [
    {
     "data": {
      "text/html": [
       "<div>\n",
       "<style scoped>\n",
       "    .dataframe tbody tr th:only-of-type {\n",
       "        vertical-align: middle;\n",
       "    }\n",
       "\n",
       "    .dataframe tbody tr th {\n",
       "        vertical-align: top;\n",
       "    }\n",
       "\n",
       "    .dataframe thead th {\n",
       "        text-align: right;\n",
       "    }\n",
       "</style>\n",
       "<table border=\"1\" class=\"dataframe\">\n",
       "  <thead>\n",
       "    <tr style=\"text-align: right;\">\n",
       "      <th></th>\n",
       "      <th>.Kecamatan</th>\n",
       "      <th>.2018</th>\n",
       "      <th>.2019</th>\n",
       "      <th>.2020</th>\n",
       "    </tr>\n",
       "  </thead>\n",
       "  <tbody>\n",
       "    <tr>\n",
       "      <th>0</th>\n",
       "      <td>Getasan</td>\n",
       "      <td>13</td>\n",
       "      <td>14</td>\n",
       "      <td>7</td>\n",
       "    </tr>\n",
       "    <tr>\n",
       "      <th>1</th>\n",
       "      <td>Tengaran</td>\n",
       "      <td>15</td>\n",
       "      <td>14</td>\n",
       "      <td>9</td>\n",
       "    </tr>\n",
       "    <tr>\n",
       "      <th>2</th>\n",
       "      <td>Susukan</td>\n",
       "      <td>20</td>\n",
       "      <td>10</td>\n",
       "      <td>2</td>\n",
       "    </tr>\n",
       "    <tr>\n",
       "      <th>3</th>\n",
       "      <td>Kaliwungu</td>\n",
       "      <td>2</td>\n",
       "      <td>3</td>\n",
       "      <td>1</td>\n",
       "    </tr>\n",
       "    <tr>\n",
       "      <th>4</th>\n",
       "      <td>Suruh</td>\n",
       "      <td>8</td>\n",
       "      <td>7</td>\n",
       "      <td>6</td>\n",
       "    </tr>\n",
       "  </tbody>\n",
       "</table>\n",
       "</div>"
      ],
      "text/plain": [
       "  .Kecamatan  .2018  .2019  .2020\n",
       "0    Getasan     13     14      7\n",
       "1   Tengaran     15     14      9\n",
       "2    Susukan     20     10      2\n",
       "3  Kaliwungu      2      3      1\n",
       "4      Suruh      8      7      6"
      ]
     },
     "execution_count": 10,
     "metadata": {},
     "output_type": "execute_result"
    }
   ],
   "source": [
    "## memampilkan isi dari dataset\n",
    "data.head()"
   ]
  },
  {
   "cell_type": "code",
   "execution_count": 16,
   "id": "471c3159",
   "metadata": {},
   "outputs": [
    {
     "data": {
      "text/html": [
       "<div>\n",
       "<style scoped>\n",
       "    .dataframe tbody tr th:only-of-type {\n",
       "        vertical-align: middle;\n",
       "    }\n",
       "\n",
       "    .dataframe tbody tr th {\n",
       "        vertical-align: top;\n",
       "    }\n",
       "\n",
       "    .dataframe thead th {\n",
       "        text-align: right;\n",
       "    }\n",
       "</style>\n",
       "<table border=\"1\" class=\"dataframe\">\n",
       "  <thead>\n",
       "    <tr style=\"text-align: right;\">\n",
       "      <th></th>\n",
       "      <th>.2018</th>\n",
       "      <th>.2019</th>\n",
       "      <th>.2020</th>\n",
       "    </tr>\n",
       "  </thead>\n",
       "  <tbody>\n",
       "    <tr>\n",
       "      <th>0</th>\n",
       "      <td>13</td>\n",
       "      <td>14</td>\n",
       "      <td>7</td>\n",
       "    </tr>\n",
       "    <tr>\n",
       "      <th>1</th>\n",
       "      <td>15</td>\n",
       "      <td>14</td>\n",
       "      <td>9</td>\n",
       "    </tr>\n",
       "    <tr>\n",
       "      <th>2</th>\n",
       "      <td>20</td>\n",
       "      <td>10</td>\n",
       "      <td>2</td>\n",
       "    </tr>\n",
       "    <tr>\n",
       "      <th>3</th>\n",
       "      <td>2</td>\n",
       "      <td>3</td>\n",
       "      <td>1</td>\n",
       "    </tr>\n",
       "    <tr>\n",
       "      <th>4</th>\n",
       "      <td>8</td>\n",
       "      <td>7</td>\n",
       "      <td>6</td>\n",
       "    </tr>\n",
       "  </tbody>\n",
       "</table>\n",
       "</div>"
      ],
      "text/plain": [
       "   .2018  .2019  .2020\n",
       "0     13     14      7\n",
       "1     15     14      9\n",
       "2     20     10      2\n",
       "3      2      3      1\n",
       "4      8      7      6"
      ]
     },
     "execution_count": 16,
     "metadata": {},
     "output_type": "execute_result"
    }
   ],
   "source": [
    "## Mengambil kolom jumlah kejahatan yang terlapor,\n",
    "## pada tahun 2018, 2019, 2020\n",
    "tahun = data.iloc[:, 1:4]\n",
    "tahun.head()"
   ]
  },
  {
   "cell_type": "code",
   "execution_count": 13,
   "id": "5c825a51",
   "metadata": {},
   "outputs": [],
   "source": [
    "# Konversi data ke dalam format array\n",
    "tahun_array = tahun.values"
   ]
  },
  {
   "cell_type": "code",
   "execution_count": 14,
   "id": "95ed3256",
   "metadata": {},
   "outputs": [],
   "source": [
    "# Menentukan jumlah klaster\n",
    "k = 3"
   ]
  },
  {
   "cell_type": "code",
   "execution_count": 15,
   "id": "386ee56b",
   "metadata": {},
   "outputs": [],
   "source": [
    "# Melakukan proses clustering dengan k-means\n",
    "kmeans = KMeans(n_clusters=k, random_state=0).fit(tahun_array)"
   ]
  },
  {
   "cell_type": "code",
   "execution_count": 17,
   "id": "7ff7bf17",
   "metadata": {},
   "outputs": [],
   "source": [
    "# Menambahkan kolom \"Klaster\" ke dalam dataset\n",
    "data['Klaster'] = kmeans.labels_"
   ]
  },
  {
   "cell_type": "code",
   "execution_count": 18,
   "id": "f9258d53",
   "metadata": {},
   "outputs": [],
   "source": [
    "# Menentukan nilai klaster\n",
    "nilai_k = {0: \"Tinggi\",1: \"Sedang\", 2: \"Rendah\"}"
   ]
  },
  {
   "cell_type": "code",
   "execution_count": 19,
   "id": "aeab8594",
   "metadata": {},
   "outputs": [],
   "source": [
    "# Mengganti nilai klaster dalam dataset dengan label yang sesuai\n",
    "data['Klaster'] = data['Klaster'].map(nilai_k)"
   ]
  },
  {
   "cell_type": "code",
   "execution_count": 21,
   "id": "57ed6337",
   "metadata": {},
   "outputs": [
    {
     "name": "stdout",
     "output_type": "stream",
     "text": [
      "       .Kecamatan Klaster\n",
      "0         Getasan  Sedang\n",
      "1        Tengaran  Sedang\n",
      "2         Susukan  Sedang\n",
      "3       Kaliwungu  Sedang\n",
      "4           Suruh  Sedang\n",
      "5         Pabelan  Sedang\n",
      "6         Tuntang  Tinggi\n",
      "7       Banyubiru  Sedang\n",
      "8           Jambu  Sedang\n",
      "9        Sumowono  Sedang\n",
      "10       Ambarawa  Tinggi\n",
      "11      Bandungan  Tinggi\n",
      "12          Bawen  Tinggi\n",
      "13        Bringin  Sedang\n",
      "14         Bancak  Sedang\n",
      "15      Pringapus  Tinggi\n",
      "16         Bergas  Rendah\n",
      "17  Ungaran Barat  Tinggi\n",
      "18  Ungaran Timur  Sedang\n"
     ]
    }
   ],
   "source": [
    "# Menampilkan hasil kluster\n",
    "print(data[['.Kecamatan', 'Klaster']])"
   ]
  },
  {
   "cell_type": "code",
   "execution_count": null,
   "id": "c60deb3d",
   "metadata": {},
   "outputs": [],
   "source": []
  }
 ],
 "metadata": {
  "kernelspec": {
   "display_name": "Python 3 (ipykernel)",
   "language": "python",
   "name": "python3"
  },
  "language_info": {
   "codemirror_mode": {
    "name": "ipython",
    "version": 3
   },
   "file_extension": ".py",
   "mimetype": "text/x-python",
   "name": "python",
   "nbconvert_exporter": "python",
   "pygments_lexer": "ipython3",
   "version": "3.9.13"
  }
 },
 "nbformat": 4,
 "nbformat_minor": 5
}
